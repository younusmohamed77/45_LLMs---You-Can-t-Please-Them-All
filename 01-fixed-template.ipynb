{
 "cells": [
  {
   "cell_type": "markdown",
   "id": "c832a29e",
   "metadata": {
    "papermill": {
     "duration": 0.002408,
     "end_time": "2025-02-06T16:14:45.517309",
     "exception": false,
     "start_time": "2025-02-06T16:14:45.514901",
     "status": "completed"
    },
    "tags": []
   },
   "source": [
    "# Simple Submission Notebook\n",
    "\n",
    "In this simple notebook, we load the test set, define a function to generate a basic essay (approximately 100 words) about a given topic, apply it to each test example, and write the final submission file `submission.csv`."
   ]
  },
  {
   "cell_type": "code",
   "execution_count": 1,
   "id": "aa0fdff1",
   "metadata": {
    "_cell_guid": "b1076dfc-b9ad-4769-8c92-a6c4dae69d19",
    "_uuid": "8f2839f25d086af736a60e9eeb907d3b93b6e0e5",
    "execution": {
     "iopub.execute_input": "2025-02-06T16:14:45.522281Z",
     "iopub.status.busy": "2025-02-06T16:14:45.522001Z",
     "iopub.status.idle": "2025-02-06T16:14:46.218761Z",
     "shell.execute_reply": "2025-02-06T16:14:46.217867Z"
    },
    "papermill": {
     "duration": 0.700913,
     "end_time": "2025-02-06T16:14:46.220393",
     "exception": false,
     "start_time": "2025-02-06T16:14:45.519480",
     "status": "completed"
    },
    "tags": []
   },
   "outputs": [],
   "source": [
    "# Import necessary libraries\n",
    "import pandas as pd"
   ]
  },
  {
   "cell_type": "markdown",
   "id": "5193ed48",
   "metadata": {
    "papermill": {
     "duration": 0.001715,
     "end_time": "2025-02-06T16:14:46.224340",
     "exception": false,
     "start_time": "2025-02-06T16:14:46.222625",
     "status": "completed"
    },
    "tags": []
   },
   "source": [
    "Now we load the test data. In the competition environment, a file named `test.csv` is provided containing an `id` column and (optionally) a `topic` column.\n"
   ]
  },
  {
   "cell_type": "code",
   "execution_count": 2,
   "id": "692a2f5c",
   "metadata": {
    "execution": {
     "iopub.execute_input": "2025-02-06T16:14:46.228862Z",
     "iopub.status.busy": "2025-02-06T16:14:46.228505Z",
     "iopub.status.idle": "2025-02-06T16:14:46.245369Z",
     "shell.execute_reply": "2025-02-06T16:14:46.244785Z"
    },
    "papermill": {
     "duration": 0.020562,
     "end_time": "2025-02-06T16:14:46.246714",
     "exception": false,
     "start_time": "2025-02-06T16:14:46.226152",
     "status": "completed"
    },
    "tags": []
   },
   "outputs": [],
   "source": [
    "# Read the test dataset\n",
    "# If your test file has a column \"topic\", we use it; otherwise, we default to a generic topic.\n",
    "test_df = pd.read_csv(\"/kaggle/input/llms-you-cant-please-them-all/test.csv\")\n",
    "\n",
    "# If there is no 'topic' column, create one with a default value.\n",
    "if 'topic' not in test_df.columns:\n",
    "    test_df['topic'] = \"general discussion\""
   ]
  },
  {
   "cell_type": "markdown",
   "id": "80e88d43",
   "metadata": {
    "papermill": {
     "duration": 0.001597,
     "end_time": "2025-02-06T16:14:46.251200",
     "exception": false,
     "start_time": "2025-02-06T16:14:46.249603",
     "status": "completed"
    },
    "tags": []
   },
   "source": [
    "Next, we define a simple function to generate an essay. The essay is a fixed template that incorporates the topic and adds extra sentences if necessary to reach roughly 100 words. (Remember, each essay must be written in English and not be repetitive.)"
   ]
  },
  {
   "cell_type": "code",
   "execution_count": 3,
   "id": "655fb858",
   "metadata": {
    "execution": {
     "iopub.execute_input": "2025-02-06T16:14:46.255477Z",
     "iopub.status.busy": "2025-02-06T16:14:46.255266Z",
     "iopub.status.idle": "2025-02-06T16:14:46.259939Z",
     "shell.execute_reply": "2025-02-06T16:14:46.258973Z"
    },
    "papermill": {
     "duration": 0.008444,
     "end_time": "2025-02-06T16:14:46.261416",
     "exception": false,
     "start_time": "2025-02-06T16:14:46.252972",
     "status": "completed"
    },
    "tags": []
   },
   "outputs": [
    {
     "name": "stdout",
     "output_type": "stream",
     "text": [
      "In exploring the topic of the impact of technology, one finds a multitude of perspectives that converge and diverge in surprising ways. The subject invites a curious blend of thoughtful reflection and analytical precision, prompting readers to reconsider assumptions. Each argument is carefully balanced with counterpoints that reveal both strengths and vulnerabilities in the discourse. This essay, composed with clarity and purpose, seeks to illuminate hidden layers of meaning while acknowledging inherent complexities. With deliberate phrasing and measured insights, it offers a fresh yet respectful examination of ideas central to the impact of technology. The narrative continues with an earnest appeal to intellectual rigor and creative expression. Diverse viewpoints merge into a coherent mosaic that challenges conventional wisdom. Ultimately, this brief exploration serves as a starting point for deeper inquiry and ongoing debate.\n"
     ]
    }
   ],
   "source": [
    "def generate_simple_essay(topic):\n",
    "    # A fixed template that uses the topic twice.\n",
    "    essay = (\n",
    "        f\"In exploring the topic of {topic}, one finds a multitude of perspectives that converge and diverge in surprising ways. \"\n",
    "        f\"The subject invites a curious blend of thoughtful reflection and analytical precision, prompting readers to reconsider assumptions. \"\n",
    "        f\"Each argument is carefully balanced with counterpoints that reveal both strengths and vulnerabilities in the discourse. \"\n",
    "        f\"This essay, composed with clarity and purpose, seeks to illuminate hidden layers of meaning while acknowledging inherent complexities. \"\n",
    "        f\"With deliberate phrasing and measured insights, it offers a fresh yet respectful examination of ideas central to {topic}.\"\n",
    "    )\n",
    "    \n",
    "    # Check the word count and, if less than 100 words, append extra sentences.\n",
    "    words = essay.split()\n",
    "    if len(words) < 100:\n",
    "        additional = (\n",
    "            \" The narrative continues with an earnest appeal to intellectual rigor and creative expression. \"\n",
    "            \"Diverse viewpoints merge into a coherent mosaic that challenges conventional wisdom. \"\n",
    "            \"Ultimately, this brief exploration serves as a starting point for deeper inquiry and ongoing debate.\"\n",
    "        )\n",
    "        essay = essay + additional\n",
    "    return essay\n",
    "\n",
    "# Quick test on a sample topic:\n",
    "print(generate_simple_essay(\"the impact of technology\"))"
   ]
  },
  {
   "cell_type": "markdown",
   "id": "f9034d4e",
   "metadata": {
    "papermill": {
     "duration": 0.001692,
     "end_time": "2025-02-06T16:14:46.265545",
     "exception": false,
     "start_time": "2025-02-06T16:14:46.263853",
     "status": "completed"
    },
    "tags": []
   },
   "source": [
    "Now we apply our essay generator function to each row of the test set. We create a new column `essay` and then save a CSV file called `submission.csv` with the required format."
   ]
  },
  {
   "cell_type": "code",
   "execution_count": 4,
   "id": "1d1fe457",
   "metadata": {
    "execution": {
     "iopub.execute_input": "2025-02-06T16:14:46.270039Z",
     "iopub.status.busy": "2025-02-06T16:14:46.269834Z",
     "iopub.status.idle": "2025-02-06T16:14:46.287143Z",
     "shell.execute_reply": "2025-02-06T16:14:46.286409Z"
    },
    "papermill": {
     "duration": 0.020784,
     "end_time": "2025-02-06T16:14:46.288249",
     "exception": false,
     "start_time": "2025-02-06T16:14:46.267465",
     "status": "completed"
    },
    "tags": []
   },
   "outputs": [
    {
     "name": "stdout",
     "output_type": "stream",
     "text": [
      "Submission file created: submission.csv\n"
     ]
    }
   ],
   "source": [
    "# Generate the essay for each test example\n",
    "test_df['essay'] = test_df['topic'].apply(generate_simple_essay)\n",
    "\n",
    "# Save the submission file (with header: id, essay)\n",
    "test_df[['id', 'essay']].to_csv(\"submission.csv\", index=False)\n",
    "\n",
    "print(\"Submission file created: submission.csv\")"
   ]
  },
  {
   "cell_type": "code",
   "execution_count": null,
   "id": "0815760c",
   "metadata": {
    "papermill": {
     "duration": 0.00177,
     "end_time": "2025-02-06T16:14:46.292066",
     "exception": false,
     "start_time": "2025-02-06T16:14:46.290296",
     "status": "completed"
    },
    "tags": []
   },
   "outputs": [],
   "source": []
  }
 ],
 "metadata": {
  "kaggle": {
   "accelerator": "gpu",
   "dataSources": [
    {
     "databundleVersionId": 10369658,
     "sourceId": 83035,
     "sourceType": "competition"
    }
   ],
   "dockerImageVersionId": 30840,
   "isGpuEnabled": true,
   "isInternetEnabled": false,
   "language": "python",
   "sourceType": "notebook"
  },
  "kernelspec": {
   "display_name": "Python 3",
   "language": "python",
   "name": "python3"
  },
  "language_info": {
   "codemirror_mode": {
    "name": "ipython",
    "version": 3
   },
   "file_extension": ".py",
   "mimetype": "text/x-python",
   "name": "python",
   "nbconvert_exporter": "python",
   "pygments_lexer": "ipython3",
   "version": "3.10.12"
  },
  "papermill": {
   "default_parameters": {},
   "duration": 3.692671,
   "end_time": "2025-02-06T16:14:46.710968",
   "environment_variables": {},
   "exception": null,
   "input_path": "__notebook__.ipynb",
   "output_path": "__notebook__.ipynb",
   "parameters": {},
   "start_time": "2025-02-06T16:14:43.018297",
   "version": "2.6.0"
  }
 },
 "nbformat": 4,
 "nbformat_minor": 5
}
