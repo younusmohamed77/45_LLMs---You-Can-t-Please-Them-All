{
 "cells": [
  {
   "cell_type": "markdown",
   "id": "abbbebf9",
   "metadata": {
    "papermill": {
     "duration": 0.00302,
     "end_time": "2025-02-06T16:19:19.520423",
     "exception": false,
     "start_time": "2025-02-06T16:19:19.517403",
     "status": "completed"
    },
    "tags": []
   },
   "source": [
    "# Advanced Submission Notebook\n",
    "\n",
    "In this notebook we attempt a more advanced approach. Here we generate essays that try to “exploit” the judging system by mixing contrasting and contradictory sentence templates. We use a set of diverse sentence templates that reference the topic in different ways. The sentences are randomized so that each generated essay is non-repetitive and exhibits internal variance. This could lead the multiple LLM judges to return more divergent scores."
   ]
  },
  {
   "cell_type": "code",
   "execution_count": 1,
   "id": "5b815cae",
   "metadata": {
    "_cell_guid": "b1076dfc-b9ad-4769-8c92-a6c4dae69d19",
    "_uuid": "8f2839f25d086af736a60e9eeb907d3b93b6e0e5",
    "execution": {
     "iopub.execute_input": "2025-02-06T16:19:19.526809Z",
     "iopub.status.busy": "2025-02-06T16:19:19.526433Z",
     "iopub.status.idle": "2025-02-06T16:19:20.333704Z",
     "shell.execute_reply": "2025-02-06T16:19:20.332876Z"
    },
    "papermill": {
     "duration": 0.812377,
     "end_time": "2025-02-06T16:19:20.335602",
     "exception": false,
     "start_time": "2025-02-06T16:19:19.523225",
     "status": "completed"
    },
    "tags": []
   },
   "outputs": [],
   "source": [
    "import pandas as pd\n",
    "import random"
   ]
  },
  {
   "cell_type": "markdown",
   "id": "594ab94c",
   "metadata": {
    "papermill": {
     "duration": 0.002238,
     "end_time": "2025-02-06T16:19:20.340583",
     "exception": false,
     "start_time": "2025-02-06T16:19:20.338345",
     "status": "completed"
    },
    "tags": []
   },
   "source": [
    "We now load the test set from `test.csv`. As before, we expect an `id` column and (optionally) a `topic` column. If a topic is missing, we default to \"general discussion.\""
   ]
  },
  {
   "cell_type": "code",
   "execution_count": 2,
   "id": "fa6fa3e1",
   "metadata": {
    "execution": {
     "iopub.execute_input": "2025-02-06T16:19:20.346503Z",
     "iopub.status.busy": "2025-02-06T16:19:20.346004Z",
     "iopub.status.idle": "2025-02-06T16:19:20.366173Z",
     "shell.execute_reply": "2025-02-06T16:19:20.365422Z"
    },
    "papermill": {
     "duration": 0.024845,
     "end_time": "2025-02-06T16:19:20.367785",
     "exception": false,
     "start_time": "2025-02-06T16:19:20.342940",
     "status": "completed"
    },
    "tags": []
   },
   "outputs": [],
   "source": [
    "# Load the test dataset\n",
    "test_df = pd.read_csv(\"/kaggle/input/llms-you-cant-please-them-all/test.csv\")\n",
    "if 'topic' not in test_df.columns:\n",
    "    test_df['topic'] = \"general discussion\""
   ]
  },
  {
   "cell_type": "markdown",
   "id": "62941d40",
   "metadata": {
    "papermill": {
     "duration": 0.002156,
     "end_time": "2025-02-06T16:19:20.373713",
     "exception": false,
     "start_time": "2025-02-06T16:19:20.371557",
     "status": "completed"
    },
    "tags": []
   },
   "source": [
    "Next, we define an advanced essay generator. It uses a collection of sentence templates that embed the topic and juxtapose positive and negative assessments. We randomize the order of the sentences and—if the essay does not reach about 100 words—we add an extra filler sentence. We also allow an optional seed to vary the generation per test row."
   ]
  },
  {
   "cell_type": "code",
   "execution_count": 3,
   "id": "238cbba2",
   "metadata": {
    "execution": {
     "iopub.execute_input": "2025-02-06T16:19:20.379533Z",
     "iopub.status.busy": "2025-02-06T16:19:20.379225Z",
     "iopub.status.idle": "2025-02-06T16:19:20.387392Z",
     "shell.execute_reply": "2025-02-06T16:19:20.386332Z"
    },
    "papermill": {
     "duration": 0.012837,
     "end_time": "2025-02-06T16:19:20.388823",
     "exception": false,
     "start_time": "2025-02-06T16:19:20.375986",
     "status": "completed"
    },
    "tags": []
   },
   "outputs": [
    {
     "name": "stdout",
     "output_type": "stream",
     "text": [
      "An unexpected twist in the narrative of the evolution of art reveals layers of both profound insight and triviality. At first glance, the evolution of art appears to be an exemplar of meticulous design, yet it conceals contradictions that perplex the observer. Each facet of the evolution of art oscillates between admiration and skepticism, leaving no room for a singular interpretation. Ultimately, the evolution of art stands as a testament to the unpredictable interplay between artistic expression and critical scrutiny. While some may argue that the evolution of art embodies the pinnacle of creativity, others contend it is a mere facade of ingenuity.\n"
     ]
    }
   ],
   "source": [
    "def generate_advanced_essay(topic, seed=None):\n",
    "    \"\"\"\n",
    "    Generates an essay with approximately 100 words using multiple sentence templates.\n",
    "    The sentences are randomized and designed to create internal contradictions,\n",
    "    potentially causing the LLM judges to disagree.\n",
    "    \"\"\"\n",
    "    if seed is not None:\n",
    "        random.seed(seed)\n",
    "        \n",
    "    # Define a set of sentence templates.\n",
    "    templates = [\n",
    "        \"In contemplating {topic}, one cannot overlook the paradox of simplicity and complexity that defines its essence.\",\n",
    "        \"The juxtaposition of vibrant optimism and subtle despair encapsulates the ambiguous nature of {topic}.\",\n",
    "        \"While some may argue that {topic} embodies the pinnacle of creativity, others contend it is a mere facade of ingenuity.\",\n",
    "        \"An unexpected twist in the narrative of {topic} reveals layers of both profound insight and triviality.\",\n",
    "        \"At first glance, {topic} appears to be an exemplar of meticulous design, yet it conceals contradictions that perplex the observer.\",\n",
    "        \"The inherent duality of {topic}—marked by both brilliance and mediocrity—challenges conventional judgment.\",\n",
    "        \"Each facet of {topic} oscillates between admiration and skepticism, leaving no room for a singular interpretation.\",\n",
    "        \"Ultimately, {topic} stands as a testament to the unpredictable interplay between artistic expression and critical scrutiny.\"\n",
    "    ]\n",
    "    \n",
    "    # Shuffle the templates and select a subset.\n",
    "    random.shuffle(templates)\n",
    "    selected_templates = templates[:5]  # Choose 5 distinct sentences.\n",
    "    \n",
    "    # Create the essay text by formatting each template with the topic.\n",
    "    essay = \" \".join([template.format(topic=topic) for template in selected_templates])\n",
    "    \n",
    "    # Count the words and append extra filler if necessary.\n",
    "    words = essay.split()\n",
    "    # Append filler until we have at least 100 words.\n",
    "    while len(words) < 100:\n",
    "        extra_sentence = \"This exploration defies categorization and invites both praise and critique from diverse perspectives.\"\n",
    "        essay += \" \" + extra_sentence\n",
    "        words = essay.split()\n",
    "    \n",
    "    # If the essay is too long (say, more than 110 words), trim it.\n",
    "    if len(words) > 110:\n",
    "        essay = \" \".join(words[:110])\n",
    "    \n",
    "    return essay\n",
    "\n",
    "# Quick test on a sample topic:\n",
    "print(generate_advanced_essay(\"the evolution of art\", seed=42))"
   ]
  },
  {
   "cell_type": "markdown",
   "id": "ff9cfc7b",
   "metadata": {
    "papermill": {
     "duration": 0.002169,
     "end_time": "2025-02-06T16:19:20.393590",
     "exception": false,
     "start_time": "2025-02-06T16:19:20.391421",
     "status": "completed"
    },
    "tags": []
   },
   "source": [
    "We now apply our advanced essay generator to each test example. To add more variety per example, we use a seed that depends on the test row index. Finally, we output the submission file `submission.csv` with columns `id` and `essay`."
   ]
  },
  {
   "cell_type": "code",
   "execution_count": 4,
   "id": "3ec8ab81",
   "metadata": {
    "execution": {
     "iopub.execute_input": "2025-02-06T16:19:20.399168Z",
     "iopub.status.busy": "2025-02-06T16:19:20.398826Z",
     "iopub.status.idle": "2025-02-06T16:19:20.421792Z",
     "shell.execute_reply": "2025-02-06T16:19:20.420708Z"
    },
    "papermill": {
     "duration": 0.027548,
     "end_time": "2025-02-06T16:19:20.423446",
     "exception": false,
     "start_time": "2025-02-06T16:19:20.395898",
     "status": "completed"
    },
    "tags": []
   },
   "outputs": [
    {
     "name": "stdout",
     "output_type": "stream",
     "text": [
      "Advanced submission file created: submission.csv\n"
     ]
    }
   ],
   "source": [
    "# For added variability, use the row index as a seed\n",
    "def generate_seeded_essay(row):\n",
    "    return generate_advanced_essay(row['topic'], seed=row.name)\n",
    "\n",
    "test_df['essay'] = test_df.apply(generate_seeded_essay, axis=1)\n",
    "\n",
    "# Save the final submission file\n",
    "test_df[['id', 'essay']].to_csv(\"submission.csv\", index=False)\n",
    "\n",
    "print(\"Advanced submission file created: submission.csv\")"
   ]
  },
  {
   "cell_type": "code",
   "execution_count": null,
   "id": "4ee0ac75",
   "metadata": {
    "papermill": {
     "duration": 0.002305,
     "end_time": "2025-02-06T16:19:20.428440",
     "exception": false,
     "start_time": "2025-02-06T16:19:20.426135",
     "status": "completed"
    },
    "tags": []
   },
   "outputs": [],
   "source": []
  }
 ],
 "metadata": {
  "kaggle": {
   "accelerator": "gpu",
   "dataSources": [
    {
     "databundleVersionId": 10369658,
     "sourceId": 83035,
     "sourceType": "competition"
    }
   ],
   "dockerImageVersionId": 30840,
   "isGpuEnabled": true,
   "isInternetEnabled": false,
   "language": "python",
   "sourceType": "notebook"
  },
  "kernelspec": {
   "display_name": "Python 3",
   "language": "python",
   "name": "python3"
  },
  "language_info": {
   "codemirror_mode": {
    "name": "ipython",
    "version": 3
   },
   "file_extension": ".py",
   "mimetype": "text/x-python",
   "name": "python",
   "nbconvert_exporter": "python",
   "pygments_lexer": "ipython3",
   "version": "3.10.12"
  },
  "papermill": {
   "default_parameters": {},
   "duration": 4.450927,
   "end_time": "2025-02-06T16:19:20.949069",
   "environment_variables": {},
   "exception": null,
   "input_path": "__notebook__.ipynb",
   "output_path": "__notebook__.ipynb",
   "parameters": {},
   "start_time": "2025-02-06T16:19:16.498142",
   "version": "2.6.0"
  }
 },
 "nbformat": 4,
 "nbformat_minor": 5
}
